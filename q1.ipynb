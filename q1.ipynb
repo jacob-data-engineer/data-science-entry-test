{
 "cells": [
  {
   "cell_type": "markdown",
   "id": "2cb06e55-e24f-4233-aeba-d5af16c9519c",
   "metadata": {},
   "source": [
    "# Question 1"
   ]
  },
  {
   "cell_type": "code",
   "execution_count": 14,
   "id": "87c111b6-2734-4d53-9c11-75f5abd327d6",
   "metadata": {},
   "outputs": [],
   "source": [
    "# def swap(x, y):\n",
    "#     \"\"\"\n",
    "#     Task 1\n",
    "#     - Create a function that would swap the value of x and y using only x and y as variables.\n",
    "#     - x and y must be numeric.\n",
    "#     - Return -1 if x and y is not numeric, and\n",
    "#     - print the swapped values if both x and y are numeric.\n",
    "#     \"\"\"\n",
    "#     return\n",
    "\n",
    "\n",
    "# Task 2\n",
    "# Invoke the function \"swap\" using the following scenarios:\n",
    "# - \"Apple\", 10\n",
    "# - 9, 17"
   ]
  },
  {
   "cell_type": "markdown",
   "id": "a9b67650-9dcc-4cfa-b76d-aa81f80538a0",
   "metadata": {},
   "source": [
    "# Task 1"
   ]
  },
  {
   "cell_type": "code",
   "execution_count": 15,
   "id": "d39850c7-8d45-4ef8-bb19-65a27c421561",
   "metadata": {},
   "outputs": [],
   "source": [
    "\n",
    "\n",
    "\n",
    "def swap(x,y):\n",
    "\n",
    "    if isinstance(x, (int, float)) and isinstance(y, (int, float)):\n",
    "        print (y,x)\n",
    "        z= None\n",
    "    else: \n",
    "        z = -1\n",
    "        return z\n",
    "\n"
   ]
  },
  {
   "cell_type": "markdown",
   "id": "99d7c1ca-a2a2-4068-82e2-33028a62f9f0",
   "metadata": {},
   "source": [
    "# Task 2"
   ]
  },
  {
   "cell_type": "code",
   "execution_count": 16,
   "id": "3c49c2a0-982a-4fb8-b6db-7de3fdb3b176",
   "metadata": {},
   "outputs": [
    {
     "data": {
      "text/plain": [
       "-1"
      ]
     },
     "execution_count": 16,
     "metadata": {},
     "output_type": "execute_result"
    }
   ],
   "source": [
    "swap (\"Apple\",10)"
   ]
  },
  {
   "cell_type": "code",
   "execution_count": 17,
   "id": "c093d8cc-8d72-4b97-aaa6-29c7ca12cbce",
   "metadata": {},
   "outputs": [
    {
     "name": "stdout",
     "output_type": "stream",
     "text": [
      "17 9\n"
     ]
    }
   ],
   "source": [
    "swap(9,17)"
   ]
  }
 ],
 "metadata": {
  "kernelspec": {
   "display_name": "Python 3 (ipykernel)",
   "language": "python",
   "name": "python3"
  },
  "language_info": {
   "codemirror_mode": {
    "name": "ipython",
    "version": 3
   },
   "file_extension": ".py",
   "mimetype": "text/x-python",
   "name": "python",
   "nbconvert_exporter": "python",
   "pygments_lexer": "ipython3",
   "version": "3.12.3"
  }
 },
 "nbformat": 4,
 "nbformat_minor": 5
}
