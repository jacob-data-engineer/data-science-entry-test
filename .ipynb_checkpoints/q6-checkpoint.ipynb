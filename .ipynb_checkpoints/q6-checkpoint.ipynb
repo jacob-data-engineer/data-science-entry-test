{
 "cells": [
  {
   "cell_type": "markdown",
   "id": "b919a549-53dc-4563-b0a4-a5aa58bf754f",
   "metadata": {},
   "source": [
    "# Question 6 Problem"
   ]
  },
  {
   "cell_type": "code",
   "execution_count": null,
   "id": "5dbf1954-79ec-43f8-84aa-1bc4d1e710af",
   "metadata": {},
   "outputs": [],
   "source": [
    "# def find_first_negative(lst):\n",
    "#     \"\"\"\n",
    "#     Task 1\n",
    "#     - Create a function that finds the first negative number in a list (lst).\n",
    "#     - Return the first negative number if found, otherwise return \"No negatives\".\n",
    "#     - Use a while loop to implement this.\n",
    "#     \"\"\"\n",
    "#     return\n",
    "\n",
    "\n",
    "# # Task 2\n",
    "# # Invoke the function \"find_first_negative\" using the following scenario:\n",
    "# # - [3, 5, -1, 7, -2, 8]\n",
    "# # - [2, 10, 7, 0]"
   ]
  },
  {
   "cell_type": "markdown",
   "id": "466f4674-f70d-42c0-a94c-3595cc6cb1f9",
   "metadata": {},
   "source": [
    "# Task 1"
   ]
  },
  {
   "cell_type": "code",
   "execution_count": 16,
   "id": "5d2dc4ae-695c-4442-befa-ba6fd2b06ee8",
   "metadata": {},
   "outputs": [],
   "source": [
    "def find_first_negative(lst):\n",
    "    i = 0\n",
    "\n",
    "    while i <len(lst):\n",
    "        number = lst[i]\n",
    "        i += 1\n",
    "\n",
    "        if number < 0 :\n",
    "            return number\n",
    "            \n",
    " \n",
    "    return(\"No negatives\") \n",
    "    \n",
    "    \n",
    "\n",
    "\n"
   ]
  },
  {
   "cell_type": "markdown",
   "id": "bd1a3474-4e85-4033-8f72-1acb4ac5eecb",
   "metadata": {},
   "source": [
    "# Task 2"
   ]
  },
  {
   "cell_type": "code",
   "execution_count": 17,
   "id": "a44d30be-27e3-47d6-a175-be8e54abbf45",
   "metadata": {},
   "outputs": [
    {
     "data": {
      "text/plain": [
       "-1"
      ]
     },
     "execution_count": 17,
     "metadata": {},
     "output_type": "execute_result"
    }
   ],
   "source": [
    "find_first_negative([3, 5, -1, 7, -2, 8])\n"
   ]
  },
  {
   "cell_type": "code",
   "execution_count": 18,
   "id": "89867a2f-3090-4823-b5d1-f963c2d42d6c",
   "metadata": {},
   "outputs": [
    {
     "data": {
      "text/plain": [
       "'No negatives'"
      ]
     },
     "execution_count": 18,
     "metadata": {},
     "output_type": "execute_result"
    }
   ],
   "source": [
    "find_first_negative([2, 10, 7, 0])\n"
   ]
  }
 ],
 "metadata": {
  "kernelspec": {
   "display_name": "Python 3 (ipykernel)",
   "language": "python",
   "name": "python3"
  },
  "language_info": {
   "codemirror_mode": {
    "name": "ipython",
    "version": 3
   },
   "file_extension": ".py",
   "mimetype": "text/x-python",
   "name": "python",
   "nbconvert_exporter": "python",
   "pygments_lexer": "ipython3",
   "version": "3.12.3"
  }
 },
 "nbformat": 4,
 "nbformat_minor": 5
}
