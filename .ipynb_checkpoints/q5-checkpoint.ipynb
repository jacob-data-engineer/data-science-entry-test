{
 "cells": [
  {
   "cell_type": "code",
   "execution_count": null,
   "id": "49c48ac8-ab09-4778-813e-790b4df5311e",
   "metadata": {},
   "outputs": [],
   "source": [
    "# def check_divisibility(num, divisor):\n",
    "#     \"\"\"\n",
    "#     Task 1\n",
    "#     - Create a function to check if the number (num) is divisible by another number (divisor).\n",
    "#     - Both num and divisor must be numeric.\n",
    "#     - Return True if num is divisible by divisor, False otherwise.\n",
    "#     \"\"\"\n",
    "#     return\n",
    "\n",
    "\n",
    "# Task 2\n",
    "# Invoke the function \"check_divisibility\" using the following scenarios:\n",
    "# - 10, 2\n",
    "# - 7, 3"
   ]
  },
  {
   "cell_type": "code",
   "execution_count": 22,
   "id": "6466bc9c-b442-4cfc-98d5-1b21346a5b7b",
   "metadata": {},
   "outputs": [],
   "source": [
    "def check_divisibility(num, divisor):\n",
    "\n",
    "        if isinstance(num, (int, float)) and isinstance(divisor, (int, float)):\n",
    "             print(num % divisor==0)\n",
    "        else:\n",
    "            return"
   ]
  },
  {
   "cell_type": "code",
   "execution_count": 33,
   "id": "cbf8c49d-e3f2-41b7-a0c4-4dfd323afe9f",
   "metadata": {},
   "outputs": [
    {
     "name": "stdout",
     "output_type": "stream",
     "text": [
      "True\n"
     ]
    }
   ],
   "source": [
    "check_divisibility(10, 2)\n"
   ]
  },
  {
   "cell_type": "code",
   "execution_count": 34,
   "id": "7e487861-6411-4b42-933a-dcdc6837769f",
   "metadata": {},
   "outputs": [
    {
     "name": "stdout",
     "output_type": "stream",
     "text": [
      "False\n"
     ]
    }
   ],
   "source": [
    "check_divisibility(7, 3)\n"
   ]
  },
  {
   "cell_type": "code",
   "execution_count": null,
   "id": "4d80116b-1214-48e0-ade8-f08d15fd9b6e",
   "metadata": {},
   "outputs": [],
   "source": []
  }
 ],
 "metadata": {
  "kernelspec": {
   "display_name": "Python 3 (ipykernel)",
   "language": "python",
   "name": "python3"
  },
  "language_info": {
   "codemirror_mode": {
    "name": "ipython",
    "version": 3
   },
   "file_extension": ".py",
   "mimetype": "text/x-python",
   "name": "python",
   "nbconvert_exporter": "python",
   "pygments_lexer": "ipython3",
   "version": "3.12.3"
  }
 },
 "nbformat": 4,
 "nbformat_minor": 5
}
