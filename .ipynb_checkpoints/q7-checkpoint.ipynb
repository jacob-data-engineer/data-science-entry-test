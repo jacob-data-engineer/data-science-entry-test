{
 "cells": [
  {
   "cell_type": "markdown",
   "id": "b6e74aad-2798-42ba-a7dc-c14500bb4ed7",
   "metadata": {},
   "source": [
    "# Question 7"
   ]
  },
  {
   "cell_type": "code",
   "execution_count": null,
   "id": "82b94917-065e-43de-857d-9a8901dbcf82",
   "metadata": {},
   "outputs": [],
   "source": [
    "# class Car:\n",
    "#     \"\"\"\n",
    "#     Task 1\n",
    "#     - Define a class named Car with attributes: make, model, year\n",
    "#     - Initialize these attributes in the __init__ method\n",
    "#     - Add a method named describe_car() that prints information about the car as \"Year Make Model\"\n",
    "#     \"\"\"\n",
    "\n",
    "#     def describe_car(self):\n",
    "#         print(\"\")\n",
    "\n",
    "\n",
    "# Task 2\n",
    "# Create an instance of the Car class with the following attributes and call describe_car method:\n",
    "# - Make: Toyota, Model: Corolla, Year: 2020"
   ]
  },
  {
   "cell_type": "markdown",
   "id": "8080b1be-c75c-45cc-bf27-0b9400fc8b79",
   "metadata": {},
   "source": [
    "# Task 1"
   ]
  },
  {
   "cell_type": "code",
   "execution_count": 28,
   "id": "87c3802a-7f3c-4ae9-b866-fadd7069d6c7",
   "metadata": {},
   "outputs": [],
   "source": [
    "class Car:\n",
    "    def __init__(self,make, model, year):\n",
    "        self.make= make\n",
    "        self.model= model\n",
    "        self.year= year\n",
    "\n",
    "    def describle_car(self):\n",
    "         print(f\"Year:{self.year}, Make:{self.make}, Model:{self.model}\")"
   ]
  },
  {
   "cell_type": "markdown",
   "id": "719f91d7-b094-480c-a3c0-9b8e0675eef0",
   "metadata": {},
   "source": [
    "# Task 2"
   ]
  },
  {
   "cell_type": "code",
   "execution_count": 29,
   "id": "c7b58d69-7df5-4561-b81b-af43607a9a3f",
   "metadata": {},
   "outputs": [],
   "source": [
    "my_car= Car(\"Toyota\",\"Corolla\",2020)\n"
   ]
  },
  {
   "cell_type": "code",
   "execution_count": 30,
   "id": "a926232d-2e24-4016-8f7b-43eec2e43f9f",
   "metadata": {},
   "outputs": [
    {
     "name": "stdout",
     "output_type": "stream",
     "text": [
      "Year:2020, Make:Toyota, Model:Corolla\n"
     ]
    }
   ],
   "source": [
    "my_car.describle_car()"
   ]
  },
  {
   "cell_type": "code",
   "execution_count": null,
   "id": "445d0f85-d8da-4656-a51d-b0a64f82d47b",
   "metadata": {},
   "outputs": [],
   "source": []
  }
 ],
 "metadata": {
  "kernelspec": {
   "display_name": "Python 3 (ipykernel)",
   "language": "python",
   "name": "python3"
  },
  "language_info": {
   "codemirror_mode": {
    "name": "ipython",
    "version": 3
   },
   "file_extension": ".py",
   "mimetype": "text/x-python",
   "name": "python",
   "nbconvert_exporter": "python",
   "pygments_lexer": "ipython3",
   "version": "3.12.3"
  }
 },
 "nbformat": 4,
 "nbformat_minor": 5
}
