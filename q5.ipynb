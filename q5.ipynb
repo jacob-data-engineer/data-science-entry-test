{
 "cells": [
  {
   "cell_type": "markdown",
   "id": "498a6913-767e-4c58-89ea-91598a33c6e1",
   "metadata": {},
   "source": [
    "# Question 5"
   ]
  },
  {
   "cell_type": "code",
   "execution_count": null,
   "id": "49c48ac8-ab09-4778-813e-790b4df5311e",
   "metadata": {},
   "outputs": [],
   "source": [
    "# def check_divisibility(num, divisor):\n",
    "#     \"\"\"\n",
    "#     Task 1\n",
    "#     - Create a function to check if the number (num) is divisible by another number (divisor).\n",
    "#     - Both num and divisor must be numeric.\n",
    "#     - Return True if num is divisible by divisor, False otherwise.\n",
    "#     \"\"\"\n",
    "#     return\n",
    "\n",
    "\n",
    "# Task 2\n",
    "# Invoke the function \"check_divisibility\" using the following scenarios:\n",
    "# - 10, 2\n",
    "# - 7, 3"
   ]
  },
  {
   "cell_type": "markdown",
   "id": "57cc3e27-865e-4104-9282-bf981e180d40",
   "metadata": {},
   "source": [
    "# Task 1"
   ]
  },
  {
   "cell_type": "code",
   "execution_count": 1,
   "id": "6466bc9c-b442-4cfc-98d5-1b21346a5b7b",
   "metadata": {},
   "outputs": [],
   "source": [
    "def check_divisibility(num, divisor):\n",
    "\n",
    "        if isinstance(num, (int, float)) and isinstance(divisor, (int, float)):\n",
    "             return(num % divisor==0)\n",
    "        else:\n",
    "            return"
   ]
  },
  {
   "cell_type": "markdown",
   "id": "9cd99fd1-9c35-46b5-8820-e58695966f89",
   "metadata": {},
   "source": [
    "# Task 2"
   ]
  },
  {
   "cell_type": "code",
   "execution_count": 2,
   "id": "cbf8c49d-e3f2-41b7-a0c4-4dfd323afe9f",
   "metadata": {},
   "outputs": [
    {
     "data": {
      "text/plain": [
       "True"
      ]
     },
     "execution_count": 2,
     "metadata": {},
     "output_type": "execute_result"
    }
   ],
   "source": [
    "check_divisibility(10, 2)\n"
   ]
  },
  {
   "cell_type": "code",
   "execution_count": 3,
   "id": "7e487861-6411-4b42-933a-dcdc6837769f",
   "metadata": {},
   "outputs": [
    {
     "data": {
      "text/plain": [
       "False"
      ]
     },
     "execution_count": 3,
     "metadata": {},
     "output_type": "execute_result"
    }
   ],
   "source": [
    "check_divisibility(7, 3)\n"
   ]
  },
  {
   "cell_type": "code",
   "execution_count": null,
   "id": "4d80116b-1214-48e0-ade8-f08d15fd9b6e",
   "metadata": {},
   "outputs": [],
   "source": []
  }
 ],
 "metadata": {
  "kernelspec": {
   "display_name": "Python 3 (ipykernel)",
   "language": "python",
   "name": "python3"
  },
  "language_info": {
   "codemirror_mode": {
    "name": "ipython",
    "version": 3
   },
   "file_extension": ".py",
   "mimetype": "text/x-python",
   "name": "python",
   "nbconvert_exporter": "python",
   "pygments_lexer": "ipython3",
   "version": "3.12.3"
  }
 },
 "nbformat": 4,
 "nbformat_minor": 5
}
