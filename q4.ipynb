{
 "cells": [
  {
   "cell_type": "code",
   "execution_count": null,
   "id": "e6c7b738-f245-47a5-8795-0dcd319caee9",
   "metadata": {},
   "outputs": [],
   "source": [
    "# def string_reverse(s):\n",
    "#     \"\"\"\n",
    "#     Task 1\n",
    "#     - Create a function that reverses a given string (s).\n",
    "#     - s must be a string.\n",
    "#     - Return the reversed string.\n",
    "#     \"\"\"\n",
    "#     return\n",
    "\n",
    "\n",
    "# Task 2\n",
    "# Invoke the function \"string_reverse\" using the following scenarios:\n",
    "# - \"Hello World\"\n",
    "# - \"Python\""
   ]
  },
  {
   "cell_type": "code",
   "execution_count": 38,
   "id": "971bef5e-8a88-48ea-afd8-c5982fca91ee",
   "metadata": {},
   "outputs": [],
   "source": [
    "def string_reverse(s):\n",
    "    reverse=\"\"\n",
    "    if isinstance(s, str):\n",
    "\n",
    "            s_length = len(s)\n",
    "            end = s_length -1\n",
    "            for i in s:\n",
    "     #print(s[end])\n",
    "                 reverse += s[end]\n",
    "                 end = end -1   \n",
    "            return reverse\n",
    "\n"
   ]
  },
  {
   "cell_type": "code",
   "execution_count": 39,
   "id": "24131ead-1f02-41d2-b926-c46a16b0c213",
   "metadata": {},
   "outputs": [
    {
     "data": {
      "text/plain": [
       "'dlroW olleH'"
      ]
     },
     "execution_count": 39,
     "metadata": {},
     "output_type": "execute_result"
    }
   ],
   "source": [
    "string_reverse(\"Hello World\")\n",
    "    "
   ]
  },
  {
   "cell_type": "code",
   "execution_count": 40,
   "id": "475e20e7-88a8-4a12-971c-6ce9823afdd1",
   "metadata": {},
   "outputs": [
    {
     "data": {
      "text/plain": [
       "'nohtyP'"
      ]
     },
     "execution_count": 40,
     "metadata": {},
     "output_type": "execute_result"
    }
   ],
   "source": [
    "string_reverse('Python')\n"
   ]
  }
 ],
 "metadata": {
  "kernelspec": {
   "display_name": "Python 3 (ipykernel)",
   "language": "python",
   "name": "python3"
  },
  "language_info": {
   "codemirror_mode": {
    "name": "ipython",
    "version": 3
   },
   "file_extension": ".py",
   "mimetype": "text/x-python",
   "name": "python",
   "nbconvert_exporter": "python",
   "pygments_lexer": "ipython3",
   "version": "3.12.3"
  }
 },
 "nbformat": 4,
 "nbformat_minor": 5
}
