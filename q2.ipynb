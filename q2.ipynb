{
 "cells": [
  {
   "cell_type": "markdown",
   "id": "d782fb1b-5b8c-41f6-9d26-f749c7b0f3dd",
   "metadata": {},
   "source": [
    "# Question 2 "
   ]
  },
  {
   "cell_type": "code",
   "execution_count": null,
   "id": "15040736-559a-4785-bbef-00da7cdf25f9",
   "metadata": {},
   "outputs": [],
   "source": [
    "# def find_and_replace(lst, find_val, replace_val):\n",
    "#     \"\"\"\n",
    "#     Task 1\n",
    "#     - Create a function that searches for all occurrences of a value (find_val) in a given list (lst) and replaces them with another value (replace_val).\n",
    "#     - lst must be a list.\n",
    "#     - Return the modified list.\n",
    "#     \"\"\"\n",
    "#     return\n",
    "\n",
    "\n",
    "# Task 2\n",
    "# Invoke the function \"find_and_replace\" using the following scenarios:\n",
    "# - [1, 2, 3, 4, 2, 2], 2, 5\n",
    "# - [\"apple\", \"banana\", \"apple\"], \"apple\", \"orange\""
   ]
  },
  {
   "cell_type": "markdown",
   "id": "a303c924-b6fa-48fa-a29b-f95806cfdaba",
   "metadata": {},
   "source": [
    "# Task 1"
   ]
  },
  {
   "cell_type": "code",
   "execution_count": 1,
   "id": "88b7a048-6d77-439b-84f6-e62b188e4fef",
   "metadata": {},
   "outputs": [],
   "source": [
    "def find_and_replace(lst, find_val, replace_val):\n",
    "\n",
    "    i=0\n",
    "\n",
    "    for i in range(len(lst)):\n",
    "            list_val= lst[i]\n",
    "            if list_val == find_val :\n",
    "              lst[i]=replace_val\n",
    "    return lst\n",
    "\n",
    "\n",
    "\n",
    "        \n",
    "        "
   ]
  },
  {
   "cell_type": "markdown",
   "id": "e2b8349d-dc6e-41d7-a726-b5c64d77521d",
   "metadata": {},
   "source": [
    "# Task 2"
   ]
  },
  {
   "cell_type": "code",
   "execution_count": 2,
   "id": "0069115f-50d4-49b7-bd38-7319e444b05a",
   "metadata": {},
   "outputs": [
    {
     "data": {
      "text/plain": [
       "[1, 5, 3, 4, 5, 5]"
      ]
     },
     "execution_count": 2,
     "metadata": {},
     "output_type": "execute_result"
    }
   ],
   "source": [
    "find_and_replace([1, 2, 3, 4, 2, 2], 2, 5)"
   ]
  },
  {
   "cell_type": "code",
   "execution_count": 3,
   "id": "8858f815-4b67-49d3-b9a0-8ac86acd5999",
   "metadata": {},
   "outputs": [
    {
     "data": {
      "text/plain": [
       "['orange', 'banana', 'orange']"
      ]
     },
     "execution_count": 3,
     "metadata": {},
     "output_type": "execute_result"
    }
   ],
   "source": [
    "find_and_replace([\"apple\", \"banana\", \"apple\"], \"apple\", \"orange\")"
   ]
  },
  {
   "cell_type": "code",
   "execution_count": null,
   "id": "562b7fac-5c54-4d3b-a906-2a1d20dd9b0e",
   "metadata": {},
   "outputs": [],
   "source": []
  }
 ],
 "metadata": {
  "kernelspec": {
   "display_name": "Python 3 (ipykernel)",
   "language": "python",
   "name": "python3"
  },
  "language_info": {
   "codemirror_mode": {
    "name": "ipython",
    "version": 3
   },
   "file_extension": ".py",
   "mimetype": "text/x-python",
   "name": "python",
   "nbconvert_exporter": "python",
   "pygments_lexer": "ipython3",
   "version": "3.12.3"
  }
 },
 "nbformat": 4,
 "nbformat_minor": 5
}
