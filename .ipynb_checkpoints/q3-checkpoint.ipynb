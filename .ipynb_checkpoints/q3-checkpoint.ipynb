{
 "cells": [
  {
   "cell_type": "code",
   "execution_count": null,
   "id": "0c7e8c85-c6a2-44f8-85e1-c9643ddefded",
   "metadata": {},
   "outputs": [],
   "source": [
    "# def update_dictionary(dct, key, value):\n",
    "#     \"\"\"\n",
    "#     Task 1\n",
    "#     - Create a function that updates a dictionary (dct) with a new key-value pair.\n",
    "#     - If the key already exists in dct, print the original value, then update its value.\n",
    "#     - Return the updated dictionary.\n",
    "#     \"\"\"\n",
    "#     return\n",
    "\n",
    "\n",
    "# Task 2\n",
    "# Invoke the function \"update_dictionary\" using the following scenarios:\n",
    "# - {}, \"name\", \"Alice\"\n",
    "# - {\"age\": 25}, \"age\", 26"
   ]
  },
  {
   "cell_type": "code",
   "execution_count": 5,
   "id": "07dc810f-4233-49a7-ac80-c39be5d49894",
   "metadata": {},
   "outputs": [],
   "source": [
    "dct = {'a': 42, 'b': 77, 'c': 19, 'd': 64}"
   ]
  },
  {
   "cell_type": "code",
   "execution_count": 13,
   "id": "8ab5a5e4-d2b9-4373-bc50-7269135dd7d3",
   "metadata": {},
   "outputs": [],
   "source": [
    "# key = \"c\"\n",
    "# value=1000\n",
    "\n",
    "def update_dictionary(dct, key, value):\n",
    "    for key_d in dct.keys():\n",
    "        if key_d == key:\n",
    "            print(\"The orginal Value is \" + str(dct[key_d]))\n",
    "            dct[key_d]= value\n",
    "    return dct\n",
    "\n"
   ]
  },
  {
   "cell_type": "code",
   "execution_count": 15,
   "id": "14583b83-350e-4797-8f54-d4889422f1d5",
   "metadata": {},
   "outputs": [
    {
     "data": {
      "text/plain": [
       "{}"
      ]
     },
     "execution_count": 15,
     "metadata": {},
     "output_type": "execute_result"
    }
   ],
   "source": [
    " update_dictionary({}, \"name\", \"Alice\")\n"
   ]
  },
  {
   "cell_type": "code",
   "execution_count": 16,
   "id": "68172d2d-97dc-4057-ae46-8623cbf8059a",
   "metadata": {},
   "outputs": [
    {
     "name": "stdout",
     "output_type": "stream",
     "text": [
      "The orginal Value is 25\n"
     ]
    },
    {
     "data": {
      "text/plain": [
       "{'age': 26}"
      ]
     },
     "execution_count": 16,
     "metadata": {},
     "output_type": "execute_result"
    }
   ],
   "source": [
    " update_dictionary({\"age\": 25}, \"age\", 26)"
   ]
  },
  {
   "cell_type": "code",
   "execution_count": null,
   "id": "287c9272-82c5-4715-9626-ae7d9fbb4756",
   "metadata": {},
   "outputs": [],
   "source": []
  }
 ],
 "metadata": {
  "kernelspec": {
   "display_name": "Python 3 (ipykernel)",
   "language": "python",
   "name": "python3"
  },
  "language_info": {
   "codemirror_mode": {
    "name": "ipython",
    "version": 3
   },
   "file_extension": ".py",
   "mimetype": "text/x-python",
   "name": "python",
   "nbconvert_exporter": "python",
   "pygments_lexer": "ipython3",
   "version": "3.12.3"
  }
 },
 "nbformat": 4,
 "nbformat_minor": 5
}
